{
 "cells": [
  {
   "cell_type": "code",
   "execution_count": 9,
   "id": "5c2be99e",
   "metadata": {},
   "outputs": [],
   "source": [
    "import selenium\n",
    "import webdriver_manager"
   ]
  },
  {
   "cell_type": "code",
   "execution_count": 6,
   "id": "25062e91",
   "metadata": {},
   "outputs": [
    {
     "name": "stdout",
     "output_type": "stream",
     "text": [
      "Requirement already satisfied: selenium in c:\\anaconda\\lib\\site-packages (4.18.1)\n",
      "Requirement already satisfied: urllib3[socks]<3,>=1.26 in c:\\anaconda\\lib\\site-packages (from selenium) (1.26.16)\n",
      "Requirement already satisfied: trio~=0.17 in c:\\anaconda\\lib\\site-packages (from selenium) (0.24.0)\n",
      "Requirement already satisfied: trio-websocket~=0.9 in c:\\anaconda\\lib\\site-packages (from selenium) (0.11.1)\n",
      "Requirement already satisfied: certifi>=2021.10.8 in c:\\anaconda\\lib\\site-packages (from selenium) (2023.7.22)\n",
      "Requirement already satisfied: typing_extensions>=4.9.0 in c:\\anaconda\\lib\\site-packages (from selenium) (4.10.0)\n",
      "Requirement already satisfied: attrs>=20.1.0 in c:\\anaconda\\lib\\site-packages (from trio~=0.17->selenium) (22.1.0)\n",
      "Requirement already satisfied: sortedcontainers in c:\\anaconda\\lib\\site-packages (from trio~=0.17->selenium) (2.4.0)\n",
      "Requirement already satisfied: idna in c:\\anaconda\\lib\\site-packages (from trio~=0.17->selenium) (3.4)\n",
      "Requirement already satisfied: outcome in c:\\anaconda\\lib\\site-packages (from trio~=0.17->selenium) (1.3.0.post0)\n",
      "Requirement already satisfied: sniffio>=1.3.0 in c:\\anaconda\\lib\\site-packages (from trio~=0.17->selenium) (1.3.1)\n",
      "Requirement already satisfied: cffi>=1.14 in c:\\anaconda\\lib\\site-packages (from trio~=0.17->selenium) (1.15.1)\n",
      "Requirement already satisfied: wsproto>=0.14 in c:\\anaconda\\lib\\site-packages (from trio-websocket~=0.9->selenium) (1.2.0)\n",
      "Requirement already satisfied: PySocks!=1.5.7,<2.0,>=1.5.6 in c:\\anaconda\\lib\\site-packages (from urllib3[socks]<3,>=1.26->selenium) (1.7.1)\n",
      "Requirement already satisfied: pycparser in c:\\anaconda\\lib\\site-packages (from cffi>=1.14->trio~=0.17->selenium) (2.21)\n",
      "Requirement already satisfied: h11<1,>=0.9.0 in c:\\anaconda\\lib\\site-packages (from wsproto>=0.14->trio-websocket~=0.9->selenium) (0.14.0)\n"
     ]
    }
   ],
   "source": [
    "!pip install selenium"
   ]
  },
  {
   "cell_type": "code",
   "execution_count": 5,
   "id": "4173cff2",
   "metadata": {},
   "outputs": [
    {
     "name": "stdout",
     "output_type": "stream",
     "text": [
      "Requirement already satisfied: webdriver_manager in c:\\anaconda\\lib\\site-packages (4.0.1)\n",
      "Requirement already satisfied: requests in c:\\anaconda\\lib\\site-packages (from webdriver_manager) (2.31.0)\n",
      "Requirement already satisfied: python-dotenv in c:\\anaconda\\lib\\site-packages (from webdriver_manager) (0.21.0)\n",
      "Requirement already satisfied: packaging in c:\\anaconda\\lib\\site-packages (from webdriver_manager) (23.1)\n",
      "Requirement already satisfied: charset-normalizer<4,>=2 in c:\\anaconda\\lib\\site-packages (from requests->webdriver_manager) (2.0.4)\n",
      "Requirement already satisfied: idna<4,>=2.5 in c:\\anaconda\\lib\\site-packages (from requests->webdriver_manager) (3.4)\n",
      "Requirement already satisfied: urllib3<3,>=1.21.1 in c:\\anaconda\\lib\\site-packages (from requests->webdriver_manager) (1.26.16)\n",
      "Requirement already satisfied: certifi>=2017.4.17 in c:\\anaconda\\lib\\site-packages (from requests->webdriver_manager) (2023.7.22)\n"
     ]
    }
   ],
   "source": [
    "!pip install webdriver_manager"
   ]
  },
  {
   "cell_type": "code",
   "execution_count": 13,
   "id": "dbaa70b0",
   "metadata": {},
   "outputs": [],
   "source": [
    "import selenium\n",
    "from selenium import webdriver\n",
    "from selenium.webdriver.chrome.options import Options\n",
    "from selenium.webdriver.common.by import By\n",
    "from selenium.webdriver.common.keys import Keys\n",
    "from webdriver_manager.chrome import ChromeDriverManager\n",
    "import pandas as pd"
   ]
  },
  {
   "cell_type": "code",
   "execution_count": 14,
   "id": "4ad37aef",
   "metadata": {},
   "outputs": [],
   "source": [
    "#Define options and set browser capabilities\n",
    "options=webdriver.ChromeOptions()\n",
    "#options.add_argument('--some--option')\n"
   ]
  },
  {
   "cell_type": "code",
   "execution_count": 16,
   "id": "ed5fc239",
   "metadata": {},
   "outputs": [],
   "source": [
    "#create WebDriver instance with options\n",
    "driver=webdriver.Chrome(options=options)"
   ]
  },
  {
   "cell_type": "code",
   "execution_count": 17,
   "id": "54ca2e58",
   "metadata": {},
   "outputs": [],
   "source": [
    "#Navigate to a website\n",
    "driver.get(\"https://www.myntra.com/\")"
   ]
  },
  {
   "cell_type": "code",
   "execution_count": 19,
   "id": "48bd732d",
   "metadata": {},
   "outputs": [],
   "source": [
    "search=driver.find_element(By.XPATH,\".//input[@class='desktop-searchBar']\")"
   ]
  },
  {
   "cell_type": "code",
   "execution_count": 20,
   "id": "87c53337",
   "metadata": {},
   "outputs": [],
   "source": [
    "search.send_keys(\"Cardigan Tops\")"
   ]
  },
  {
   "cell_type": "code",
   "execution_count": 21,
   "id": "a89065f9",
   "metadata": {},
   "outputs": [],
   "source": [
    "search.send_keys(Keys.ENTER)"
   ]
  },
  {
   "cell_type": "code",
   "execution_count": 22,
   "id": "336a9004",
   "metadata": {},
   "outputs": [],
   "source": [
    "brand=driver.find_elements(By.XPATH,\".//h3[@class='product-brand']\")\n",
    "brands=[i.text for i in brand]"
   ]
  },
  {
   "cell_type": "code",
   "execution_count": 23,
   "id": "c049ed94",
   "metadata": {},
   "outputs": [
    {
     "name": "stdout",
     "output_type": "stream",
     "text": [
      "['JoE Hazel', 'JoE Hazel', 'JoE Hazel', 'Tokyo Talkies', 'Tokyo Talkies', 'Roadster', 'Tokyo Talkies', 'LULU & SKY', 'Ardene', 'LULU & SKY', 'Roadster', 'Roadster', 'Roadster']\n",
      "13\n"
     ]
    }
   ],
   "source": [
    "print(brands)\n",
    "print(len(brands))"
   ]
  },
  {
   "cell_type": "code",
   "execution_count": 28,
   "id": "bd2cb6d5",
   "metadata": {},
   "outputs": [
    {
     "name": "stdout",
     "output_type": "stream",
     "text": [
      "['Woman Pink Cardigan', 'Woman Green Cardigan', 'Woman Black Cardigan', 'Crop Top With Cardigan', 'Crop Top With Cardigan', 'Solid Cardigan Set', 'Crop Top With Cardigan Sweater', 'Crop Top With Cardigan', 'Cardigan Style Crop Top', 'Mandarin Collar Cardigan Top', 'Solid Cardigan Set', 'Solid Cardigan Set', 'Solid Cardigan Set']\n",
      "13\n"
     ]
    }
   ],
   "source": [
    "product=driver.find_elements(By.XPATH,\".//h4[@class='product-product']\")\n",
    "products=[i.text for i in product]\n",
    "print(products)\n",
    "print(len(products))"
   ]
  },
  {
   "cell_type": "code",
   "execution_count": 29,
   "id": "537dbfea",
   "metadata": {},
   "outputs": [
    {
     "name": "stdout",
     "output_type": "stream",
     "text": [
      "['Rs. 699', 'Rs. 699', 'Rs. 699', 'Rs. 1956', 'Rs. 1399', 'Rs. 1079', 'Rs. 1549', 'Rs. 1856', 'Rs. 1899', 'Rs. 1681', 'Rs. 719', 'Rs. 839', 'Rs. 1079']\n",
      "13\n"
     ]
    }
   ],
   "source": [
    "price=driver.find_elements(By.XPATH,\".//span[@class='product-discountedPrice']\")\n",
    "prices=[i.text for i in price]\n",
    "print(prices)\n",
    "print(len(prices))"
   ]
  },
  {
   "cell_type": "code",
   "execution_count": 31,
   "id": "2b610487",
   "metadata": {},
   "outputs": [],
   "source": [
    "import pandas as pd"
   ]
  },
  {
   "cell_type": "code",
   "execution_count": 33,
   "id": "5b40b9ae",
   "metadata": {},
   "outputs": [
    {
     "data": {
      "text/html": [
       "<div>\n",
       "<style scoped>\n",
       "    .dataframe tbody tr th:only-of-type {\n",
       "        vertical-align: middle;\n",
       "    }\n",
       "\n",
       "    .dataframe tbody tr th {\n",
       "        vertical-align: top;\n",
       "    }\n",
       "\n",
       "    .dataframe thead th {\n",
       "        text-align: right;\n",
       "    }\n",
       "</style>\n",
       "<table border=\"1\" class=\"dataframe\">\n",
       "  <thead>\n",
       "    <tr style=\"text-align: right;\">\n",
       "      <th></th>\n",
       "      <th>Brand</th>\n",
       "      <th>Product</th>\n",
       "      <th>Price</th>\n",
       "    </tr>\n",
       "  </thead>\n",
       "  <tbody>\n",
       "  </tbody>\n",
       "</table>\n",
       "</div>"
      ],
      "text/plain": [
       "Empty DataFrame\n",
       "Columns: [Brand, Product, Price]\n",
       "Index: []"
      ]
     },
     "execution_count": 33,
     "metadata": {},
     "output_type": "execute_result"
    }
   ],
   "source": [
    "df=pd.DataFrame(columns=[\"Brand\",\"Product\",\"Price\"])\n",
    "df"
   ]
  },
  {
   "cell_type": "code",
   "execution_count": 34,
   "id": "76ab53d3",
   "metadata": {},
   "outputs": [],
   "source": [
    "df['Brand']=brands\n",
    "df['Product']=products\n",
    "df['Price']=prices"
   ]
  },
  {
   "cell_type": "code",
   "execution_count": 35,
   "id": "85635af1",
   "metadata": {},
   "outputs": [
    {
     "data": {
      "text/html": [
       "<div>\n",
       "<style scoped>\n",
       "    .dataframe tbody tr th:only-of-type {\n",
       "        vertical-align: middle;\n",
       "    }\n",
       "\n",
       "    .dataframe tbody tr th {\n",
       "        vertical-align: top;\n",
       "    }\n",
       "\n",
       "    .dataframe thead th {\n",
       "        text-align: right;\n",
       "    }\n",
       "</style>\n",
       "<table border=\"1\" class=\"dataframe\">\n",
       "  <thead>\n",
       "    <tr style=\"text-align: right;\">\n",
       "      <th></th>\n",
       "      <th>Brand</th>\n",
       "      <th>Product</th>\n",
       "      <th>Price</th>\n",
       "    </tr>\n",
       "  </thead>\n",
       "  <tbody>\n",
       "    <tr>\n",
       "      <th>0</th>\n",
       "      <td>JoE Hazel</td>\n",
       "      <td>Woman Pink Cardigan</td>\n",
       "      <td>Rs. 699</td>\n",
       "    </tr>\n",
       "    <tr>\n",
       "      <th>1</th>\n",
       "      <td>JoE Hazel</td>\n",
       "      <td>Woman Green Cardigan</td>\n",
       "      <td>Rs. 699</td>\n",
       "    </tr>\n",
       "    <tr>\n",
       "      <th>2</th>\n",
       "      <td>JoE Hazel</td>\n",
       "      <td>Woman Black Cardigan</td>\n",
       "      <td>Rs. 699</td>\n",
       "    </tr>\n",
       "    <tr>\n",
       "      <th>3</th>\n",
       "      <td>Tokyo Talkies</td>\n",
       "      <td>Crop Top With Cardigan</td>\n",
       "      <td>Rs. 1956</td>\n",
       "    </tr>\n",
       "    <tr>\n",
       "      <th>4</th>\n",
       "      <td>Tokyo Talkies</td>\n",
       "      <td>Crop Top With Cardigan</td>\n",
       "      <td>Rs. 1399</td>\n",
       "    </tr>\n",
       "    <tr>\n",
       "      <th>5</th>\n",
       "      <td>Roadster</td>\n",
       "      <td>Solid Cardigan Set</td>\n",
       "      <td>Rs. 1079</td>\n",
       "    </tr>\n",
       "    <tr>\n",
       "      <th>6</th>\n",
       "      <td>Tokyo Talkies</td>\n",
       "      <td>Crop Top With Cardigan Sweater</td>\n",
       "      <td>Rs. 1549</td>\n",
       "    </tr>\n",
       "    <tr>\n",
       "      <th>7</th>\n",
       "      <td>LULU &amp; SKY</td>\n",
       "      <td>Crop Top With Cardigan</td>\n",
       "      <td>Rs. 1856</td>\n",
       "    </tr>\n",
       "    <tr>\n",
       "      <th>8</th>\n",
       "      <td>Ardene</td>\n",
       "      <td>Cardigan Style Crop Top</td>\n",
       "      <td>Rs. 1899</td>\n",
       "    </tr>\n",
       "    <tr>\n",
       "      <th>9</th>\n",
       "      <td>LULU &amp; SKY</td>\n",
       "      <td>Mandarin Collar Cardigan Top</td>\n",
       "      <td>Rs. 1681</td>\n",
       "    </tr>\n",
       "    <tr>\n",
       "      <th>10</th>\n",
       "      <td>Roadster</td>\n",
       "      <td>Solid Cardigan Set</td>\n",
       "      <td>Rs. 719</td>\n",
       "    </tr>\n",
       "    <tr>\n",
       "      <th>11</th>\n",
       "      <td>Roadster</td>\n",
       "      <td>Solid Cardigan Set</td>\n",
       "      <td>Rs. 839</td>\n",
       "    </tr>\n",
       "    <tr>\n",
       "      <th>12</th>\n",
       "      <td>Roadster</td>\n",
       "      <td>Solid Cardigan Set</td>\n",
       "      <td>Rs. 1079</td>\n",
       "    </tr>\n",
       "  </tbody>\n",
       "</table>\n",
       "</div>"
      ],
      "text/plain": [
       "            Brand                         Product     Price\n",
       "0       JoE Hazel             Woman Pink Cardigan   Rs. 699\n",
       "1       JoE Hazel            Woman Green Cardigan   Rs. 699\n",
       "2       JoE Hazel            Woman Black Cardigan   Rs. 699\n",
       "3   Tokyo Talkies          Crop Top With Cardigan  Rs. 1956\n",
       "4   Tokyo Talkies          Crop Top With Cardigan  Rs. 1399\n",
       "5        Roadster              Solid Cardigan Set  Rs. 1079\n",
       "6   Tokyo Talkies  Crop Top With Cardigan Sweater  Rs. 1549\n",
       "7      LULU & SKY          Crop Top With Cardigan  Rs. 1856\n",
       "8          Ardene         Cardigan Style Crop Top  Rs. 1899\n",
       "9      LULU & SKY    Mandarin Collar Cardigan Top  Rs. 1681\n",
       "10       Roadster              Solid Cardigan Set   Rs. 719\n",
       "11       Roadster              Solid Cardigan Set   Rs. 839\n",
       "12       Roadster              Solid Cardigan Set  Rs. 1079"
      ]
     },
     "execution_count": 35,
     "metadata": {},
     "output_type": "execute_result"
    }
   ],
   "source": [
    "df"
   ]
  },
  {
   "cell_type": "code",
   "execution_count": 36,
   "id": "c98ad18b",
   "metadata": {},
   "outputs": [],
   "source": [
    "df.to_csv(\"Myntra.csv\")"
   ]
  },
  {
   "cell_type": "code",
   "execution_count": null,
   "id": "4a7876c2",
   "metadata": {},
   "outputs": [],
   "source": []
  }
 ],
 "metadata": {
  "kernelspec": {
   "display_name": "Python 3 (ipykernel)",
   "language": "python",
   "name": "python3"
  },
  "language_info": {
   "codemirror_mode": {
    "name": "ipython",
    "version": 3
   },
   "file_extension": ".py",
   "mimetype": "text/x-python",
   "name": "python",
   "nbconvert_exporter": "python",
   "pygments_lexer": "ipython3",
   "version": "3.11.5"
  }
 },
 "nbformat": 4,
 "nbformat_minor": 5
}
