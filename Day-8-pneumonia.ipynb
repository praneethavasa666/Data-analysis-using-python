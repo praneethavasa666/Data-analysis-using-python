{
 "cells": [
  {
   "cell_type": "code",
   "execution_count": 7,
   "id": "42ea3221",
   "metadata": {},
   "outputs": [],
   "source": [
    "from tensorflow.keras.models import load_model\n",
    "from tensorflow.keras.preprocessing import image\n",
    "import numpy as np\n",
    "\n",
    "#load the saved model\n",
    "model=load_model (r\"C:\\Users\\PRANEETHA\\Pneumonia.h5\")\n",
    "\n"
   ]
  },
  {
   "cell_type": "code",
   "execution_count": 8,
   "id": "ca78f059",
   "metadata": {},
   "outputs": [],
   "source": [
    "#load and preprocess the test image\n",
    "test_image_path=r'C:\\Users\\PRANEETHA\\Documents\\PNEUMONIA\\chest_xray\\train\\NORMAL\\IM-0176-0001.jpeg'\n",
    "img=image.load_img(test_image_path, target_size=(224, 224))\n",
    "img_array=image.img_to_array(img)\n",
    "img_array=np.expand_dims(img_array,axis=0)"
   ]
  },
  {
   "cell_type": "code",
   "execution_count": 10,
   "id": "6221bcc3",
   "metadata": {},
   "outputs": [
    {
     "name": "stdout",
     "output_type": "stream",
     "text": [
      "1/1 [==============================] - 0s 47ms/step\n",
      "[[0.]]\n",
      "Prediction :No pneumonia (Probability: 0.0\n"
     ]
    }
   ],
   "source": [
    "#add batch dimension\n",
    "img_array /= 255. #Normalize the pixel values\n",
    "#make predictions\n",
    "prediction=model.predict(img_array)\n",
    "#print the prediction\n",
    "print(prediction)\n",
    "\n",
    "if prediction<0.5:\n",
    "  print(\"Prediction :No pneumonia (Probability:\",prediction[0][0])\n",
    "else:\n",
    "  print(\"Prediction :pneumonia(Probability:\",prediction[0][0])\n",
    "\n"
   ]
  },
  {
   "cell_type": "code",
   "execution_count": null,
   "id": "a4c49a1e",
   "metadata": {},
   "outputs": [],
   "source": []
  }
 ],
 "metadata": {
  "kernelspec": {
   "display_name": "Python 3 (ipykernel)",
   "language": "python",
   "name": "python3"
  },
  "language_info": {
   "codemirror_mode": {
    "name": "ipython",
    "version": 3
   },
   "file_extension": ".py",
   "mimetype": "text/x-python",
   "name": "python",
   "nbconvert_exporter": "python",
   "pygments_lexer": "ipython3",
   "version": "3.11.5"
  }
 },
 "nbformat": 4,
 "nbformat_minor": 5
}
